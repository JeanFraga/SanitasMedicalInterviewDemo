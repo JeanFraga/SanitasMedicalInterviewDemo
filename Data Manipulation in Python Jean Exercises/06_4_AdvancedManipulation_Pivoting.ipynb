{
 "cells": [
  {
   "cell_type": "markdown",
   "metadata": {},
   "source": [
    "# Pivoting \n",
    "\n",
    "For this example, let's look at two datasets. One a voting data from here: https://www.kaggle.com/stevepalley/2016uspresidentialvotebycounty\n",
    "\n",
    "The other, world happiness data from here: https://www.kaggle.com/unsdsn/world-happiness\n",
    "\n",
    "This dataset will make use of our merging skills!"
   ]
  },
  {
   "cell_type": "code",
   "execution_count": 1,
   "metadata": {},
   "outputs": [
    {
     "data": {
      "text/html": [
       "<div>\n",
       "<style scoped>\n",
       "    .dataframe tbody tr th:only-of-type {\n",
       "        vertical-align: middle;\n",
       "    }\n",
       "\n",
       "    .dataframe tbody tr th {\n",
       "        vertical-align: top;\n",
       "    }\n",
       "\n",
       "    .dataframe thead th {\n",
       "        text-align: right;\n",
       "    }\n",
       "</style>\n",
       "<table border=\"1\" class=\"dataframe\">\n",
       "  <thead>\n",
       "    <tr style=\"text-align: right;\">\n",
       "      <th></th>\n",
       "      <th>county</th>\n",
       "      <th>fips</th>\n",
       "      <th>cand</th>\n",
       "      <th>st</th>\n",
       "      <th>pct_report</th>\n",
       "      <th>votes</th>\n",
       "      <th>total_votes</th>\n",
       "      <th>pct</th>\n",
       "      <th>lead</th>\n",
       "    </tr>\n",
       "  </thead>\n",
       "  <tbody>\n",
       "    <tr>\n",
       "      <th>0</th>\n",
       "      <td>NaN</td>\n",
       "      <td>US</td>\n",
       "      <td>Donald Trump</td>\n",
       "      <td>US</td>\n",
       "      <td>0.9951</td>\n",
       "      <td>60350241.0</td>\n",
       "      <td>127592176.0</td>\n",
       "      <td>0.472993</td>\n",
       "      <td>Donald Trump</td>\n",
       "    </tr>\n",
       "    <tr>\n",
       "      <th>1</th>\n",
       "      <td>NaN</td>\n",
       "      <td>US</td>\n",
       "      <td>Hillary Clinton</td>\n",
       "      <td>US</td>\n",
       "      <td>0.9951</td>\n",
       "      <td>60981118.0</td>\n",
       "      <td>127592176.0</td>\n",
       "      <td>0.477938</td>\n",
       "      <td>Donald Trump</td>\n",
       "    </tr>\n",
       "    <tr>\n",
       "      <th>2</th>\n",
       "      <td>NaN</td>\n",
       "      <td>US</td>\n",
       "      <td>Gary Johnson</td>\n",
       "      <td>US</td>\n",
       "      <td>0.9951</td>\n",
       "      <td>4164589.0</td>\n",
       "      <td>127592176.0</td>\n",
       "      <td>0.032640</td>\n",
       "      <td>Donald Trump</td>\n",
       "    </tr>\n",
       "    <tr>\n",
       "      <th>3</th>\n",
       "      <td>NaN</td>\n",
       "      <td>US</td>\n",
       "      <td>Jill Stein</td>\n",
       "      <td>US</td>\n",
       "      <td>0.9951</td>\n",
       "      <td>1255968.0</td>\n",
       "      <td>127592176.0</td>\n",
       "      <td>0.009844</td>\n",
       "      <td>Donald Trump</td>\n",
       "    </tr>\n",
       "    <tr>\n",
       "      <th>4</th>\n",
       "      <td>NaN</td>\n",
       "      <td>US</td>\n",
       "      <td>Evan McMullin</td>\n",
       "      <td>US</td>\n",
       "      <td>0.9951</td>\n",
       "      <td>451636.0</td>\n",
       "      <td>127592176.0</td>\n",
       "      <td>0.003540</td>\n",
       "      <td>Donald Trump</td>\n",
       "    </tr>\n",
       "  </tbody>\n",
       "</table>\n",
       "</div>"
      ],
      "text/plain": [
       "  county fips             cand  st  pct_report       votes  total_votes  \\\n",
       "0    NaN   US     Donald Trump  US      0.9951  60350241.0  127592176.0   \n",
       "1    NaN   US  Hillary Clinton  US      0.9951  60981118.0  127592176.0   \n",
       "2    NaN   US     Gary Johnson  US      0.9951   4164589.0  127592176.0   \n",
       "3    NaN   US       Jill Stein  US      0.9951   1255968.0  127592176.0   \n",
       "4    NaN   US    Evan McMullin  US      0.9951    451636.0  127592176.0   \n",
       "\n",
       "        pct          lead  \n",
       "0  0.472993  Donald Trump  \n",
       "1  0.477938  Donald Trump  \n",
       "2  0.032640  Donald Trump  \n",
       "3  0.009844  Donald Trump  \n",
       "4  0.003540  Donald Trump  "
      ]
     },
     "execution_count": 1,
     "metadata": {},
     "output_type": "execute_result"
    }
   ],
   "source": [
    "import pandas as pd\n",
    "import numpy as np\n",
    "import os\n",
    "import matplotlib.pyplot as plt\n",
    "\n",
    "os.chdir('../Data Manipulation in Python Crash Course/P87-S7-Advanced-Manipulation-Resources/')\n",
    "\n",
    "dfo = pd.read_csv(\"pres16results.csv\")\n",
    "dfo.head()"
   ]
  },
  {
   "cell_type": "code",
   "execution_count": 8,
   "metadata": {},
   "outputs": [
    {
     "data": {
      "text/plain": [
       "array([nan, 'Los Angeles County', 'Cook County', ..., 'St. Croix Island',\n",
       "       'St. John Island', 'St. Thomas Island'], dtype=object)"
      ]
     },
     "execution_count": 8,
     "metadata": {},
     "output_type": "execute_result"
    }
   ],
   "source": [
    "dfo.county.unique()  "
   ]
  },
  {
   "cell_type": "code",
   "execution_count": 16,
   "metadata": {},
   "outputs": [
    {
     "data": {
      "text/plain": [
       "0        False\n",
       "1        False\n",
       "2        False\n",
       "3        False\n",
       "4        False\n",
       "         ...  \n",
       "18470    False\n",
       "18471    False\n",
       "18472    False\n",
       "18473    False\n",
       "18474    False\n",
       "Name: county, Length: 18475, dtype: bool"
      ]
     },
     "execution_count": 16,
     "metadata": {},
     "output_type": "execute_result"
    }
   ],
   "source": [
    "dfo['county'] == 'Los Angeles County'"
   ]
  },
  {
   "cell_type": "code",
   "execution_count": 20,
   "metadata": {},
   "outputs": [
    {
     "data": {
      "text/html": [
       "<div>\n",
       "<style scoped>\n",
       "    .dataframe tbody tr th:only-of-type {\n",
       "        vertical-align: middle;\n",
       "    }\n",
       "\n",
       "    .dataframe tbody tr th {\n",
       "        vertical-align: top;\n",
       "    }\n",
       "\n",
       "    .dataframe thead th {\n",
       "        text-align: right;\n",
       "    }\n",
       "</style>\n",
       "<table border=\"1\" class=\"dataframe\">\n",
       "  <thead>\n",
       "    <tr style=\"text-align: right;\">\n",
       "      <th></th>\n",
       "      <th>county</th>\n",
       "      <th>fips</th>\n",
       "      <th>cand</th>\n",
       "      <th>st</th>\n",
       "      <th>pct_report</th>\n",
       "      <th>votes</th>\n",
       "      <th>total_votes</th>\n",
       "      <th>pct</th>\n",
       "      <th>lead</th>\n",
       "    </tr>\n",
       "  </thead>\n",
       "  <tbody>\n",
       "    <tr>\n",
       "      <th>159</th>\n",
       "      <td>Los Angeles County</td>\n",
       "      <td>6037</td>\n",
       "      <td>Hillary Clinton</td>\n",
       "      <td>CA</td>\n",
       "      <td>1.0</td>\n",
       "      <td>1654626.0</td>\n",
       "      <td>2314275.0</td>\n",
       "      <td>0.714965</td>\n",
       "      <td>Hillary Clinton</td>\n",
       "    </tr>\n",
       "    <tr>\n",
       "      <th>160</th>\n",
       "      <td>Los Angeles County</td>\n",
       "      <td>6037</td>\n",
       "      <td>Donald Trump</td>\n",
       "      <td>CA</td>\n",
       "      <td>1.0</td>\n",
       "      <td>542591.0</td>\n",
       "      <td>2314275.0</td>\n",
       "      <td>0.234454</td>\n",
       "      <td>Hillary Clinton</td>\n",
       "    </tr>\n",
       "    <tr>\n",
       "      <th>161</th>\n",
       "      <td>Los Angeles County</td>\n",
       "      <td>6037</td>\n",
       "      <td>Gary Johnson</td>\n",
       "      <td>CA</td>\n",
       "      <td>1.0</td>\n",
       "      <td>56905.0</td>\n",
       "      <td>2314275.0</td>\n",
       "      <td>0.024589</td>\n",
       "      <td>Hillary Clinton</td>\n",
       "    </tr>\n",
       "    <tr>\n",
       "      <th>162</th>\n",
       "      <td>Los Angeles County</td>\n",
       "      <td>6037</td>\n",
       "      <td>Jill Stein</td>\n",
       "      <td>CA</td>\n",
       "      <td>1.0</td>\n",
       "      <td>46682.0</td>\n",
       "      <td>2314275.0</td>\n",
       "      <td>0.020171</td>\n",
       "      <td>Hillary Clinton</td>\n",
       "    </tr>\n",
       "    <tr>\n",
       "      <th>163</th>\n",
       "      <td>Los Angeles County</td>\n",
       "      <td>6037</td>\n",
       "      <td>Gloria La Riva</td>\n",
       "      <td>CA</td>\n",
       "      <td>1.0</td>\n",
       "      <td>13471.0</td>\n",
       "      <td>2314275.0</td>\n",
       "      <td>0.005821</td>\n",
       "      <td>Hillary Clinton</td>\n",
       "    </tr>\n",
       "  </tbody>\n",
       "</table>\n",
       "</div>"
      ],
      "text/plain": [
       "                 county  fips             cand  st  pct_report      votes  \\\n",
       "159  Los Angeles County  6037  Hillary Clinton  CA         1.0  1654626.0   \n",
       "160  Los Angeles County  6037     Donald Trump  CA         1.0   542591.0   \n",
       "161  Los Angeles County  6037     Gary Johnson  CA         1.0    56905.0   \n",
       "162  Los Angeles County  6037       Jill Stein  CA         1.0    46682.0   \n",
       "163  Los Angeles County  6037   Gloria La Riva  CA         1.0    13471.0   \n",
       "\n",
       "     total_votes       pct             lead  \n",
       "159    2314275.0  0.714965  Hillary Clinton  \n",
       "160    2314275.0  0.234454  Hillary Clinton  \n",
       "161    2314275.0  0.024589  Hillary Clinton  \n",
       "162    2314275.0  0.020171  Hillary Clinton  \n",
       "163    2314275.0  0.005821  Hillary Clinton  "
      ]
     },
     "execution_count": 20,
     "metadata": {},
     "output_type": "execute_result"
    }
   ],
   "source": [
    "# boolean indexing\n",
    "dfo[dfo['county'] == 'Los Angeles County']"
   ]
  },
  {
   "cell_type": "code",
   "execution_count": 15,
   "metadata": {},
   "outputs": [
    {
     "data": {
      "text/plain": [
       "array([nan, 'US', 'Hillary Clinton', 'US', 0.9951, 60981118.0,\n",
       "       127592176.0, 0.477937753800829, 'Donald Trump'], dtype=object)"
      ]
     },
     "execution_count": 15,
     "metadata": {},
     "output_type": "execute_result"
    }
   ],
   "source": [
    "dfo.to_numpy()[1]"
   ]
  },
  {
   "cell_type": "code",
   "execution_count": 27,
   "metadata": {},
   "outputs": [
    {
     "data": {
      "text/plain": [
       "array([nan, 'US', 'Hillary Clinton', 'US', 0.9951, 60981118.0,\n",
       "       127592176.0, 0.477937753800829, 'Donald Trump'], dtype=object)"
      ]
     },
     "execution_count": 27,
     "metadata": {},
     "output_type": "execute_result"
    }
   ],
   "source": []
  },
  {
   "cell_type": "code",
   "execution_count": 71,
   "metadata": {},
   "outputs": [
    {
     "data": {
      "text/plain": [
       "True"
      ]
     },
     "execution_count": 71,
     "metadata": {},
     "output_type": "execute_result"
    }
   ],
   "source": [
    "# function that returns x if x > 0, else 0\n",
    "def pos_or_zero(x):\n",
    "    if x > 0:\n",
    "        return True\n",
    "    else:\n",
    "        return False\n",
    "\n",
    "x = 'a'\n",
    "\n",
    "# evaluate data type of x\n",
    "\n",
    "x > 'A'"
   ]
  },
  {
   "cell_type": "code",
   "execution_count": 33,
   "metadata": {},
   "outputs": [
    {
     "data": {
      "text/plain": [
       "float"
      ]
     },
     "execution_count": 33,
     "metadata": {},
     "output_type": "execute_result"
    }
   ],
   "source": [
    "type(x)"
   ]
  },
  {
   "cell_type": "code",
   "execution_count": 49,
   "metadata": {},
   "outputs": [
    {
     "name": "stdout",
     "output_type": "stream",
     "text": [
      "97\n",
      "65\n"
     ]
    }
   ],
   "source": [
    "print(ord('a'))\n",
    "print(ord('A'))\n"
   ]
  },
  {
   "cell_type": "code",
   "execution_count": 46,
   "metadata": {},
   "outputs": [
    {
     "data": {
      "text/plain": [
       "'0b1100001'"
      ]
     },
     "execution_count": 46,
     "metadata": {},
     "output_type": "execute_result"
    }
   ],
   "source": [
    "# represent '97' in binary\n",
    "bin(97)"
   ]
  },
  {
   "cell_type": "code",
   "execution_count": 72,
   "metadata": {},
   "outputs": [
    {
     "data": {
      "text/plain": [
       "'0x61'"
      ]
     },
     "execution_count": 72,
     "metadata": {},
     "output_type": "execute_result"
    }
   ],
   "source": [
    "# represent '97' in hexadecimal\n",
    "hex(97)"
   ]
  },
  {
   "cell_type": "code",
   "execution_count": 50,
   "metadata": {},
   "outputs": [
    {
     "data": {
      "text/plain": [
       "97"
      ]
     },
     "execution_count": 50,
     "metadata": {},
     "output_type": "execute_result"
    }
   ],
   "source": [
    "# represent binary in decimal\n",
    "int('01100001', 2)"
   ]
  },
  {
   "cell_type": "code",
   "execution_count": 73,
   "metadata": {},
   "outputs": [
    {
     "data": {
      "text/plain": [
       "97"
      ]
     },
     "execution_count": 73,
     "metadata": {},
     "output_type": "execute_result"
    }
   ],
   "source": [
    "int('61', 16)"
   ]
  },
  {
   "cell_type": "code",
   "execution_count": 54,
   "metadata": {},
   "outputs": [
    {
     "data": {
      "text/plain": [
       "16"
      ]
     },
     "execution_count": 54,
     "metadata": {},
     "output_type": "execute_result"
    }
   ],
   "source": [
    "2**4"
   ]
  },
  {
   "cell_type": "code",
   "execution_count": 55,
   "metadata": {},
   "outputs": [
    {
     "data": {
      "text/plain": [
       "16"
      ]
     },
     "execution_count": 55,
     "metadata": {},
     "output_type": "execute_result"
    }
   ],
   "source": [
    "2* 2* 2 *2"
   ]
  },
  {
   "cell_type": "code",
   "execution_count": 74,
   "metadata": {},
   "outputs": [],
   "source": [
    "lista = [1, 2, 3, 4, 5]"
   ]
  },
  {
   "cell_type": "code",
   "execution_count": 76,
   "metadata": {},
   "outputs": [
    {
     "name": "stdout",
     "output_type": "stream",
     "text": [
      "2\n"
     ]
    }
   ],
   "source": [
    "# create for loop to find the number 2 in lista\n",
    "for i in lista:\n",
    "    if i == 2:\n",
    "        print(i)\n",
    "\n",
    "# lista[1]"
   ]
  },
  {
   "cell_type": "code",
   "execution_count": 77,
   "metadata": {},
   "outputs": [
    {
     "data": {
      "text/plain": [
       "2"
      ]
     },
     "execution_count": 77,
     "metadata": {},
     "output_type": "execute_result"
    }
   ],
   "source": [
    "lista[1]"
   ]
  },
  {
   "cell_type": "code",
   "execution_count": 84,
   "metadata": {},
   "outputs": [
    {
     "name": "stdout",
     "output_type": "stream",
     "text": [
      "2\n"
     ]
    }
   ],
   "source": [
    "lista = {1:'2', 2:'3', 3:'4'}\n",
    "\n",
    "for i in lista:\n",
    "    if i == 2:\n",
    "        print(i)"
   ]
  },
  {
   "cell_type": "code",
   "execution_count": 85,
   "metadata": {},
   "outputs": [
    {
     "data": {
      "text/plain": [
       "'3'"
      ]
     },
     "execution_count": 85,
     "metadata": {},
     "output_type": "execute_result"
    }
   ],
   "source": [
    "# find the number 2 in lista\n",
    "lista[2]"
   ]
  },
  {
   "cell_type": "code",
   "execution_count": null,
   "metadata": {},
   "outputs": [],
   "source": []
  }
 ],
 "metadata": {
  "interpreter": {
   "hash": "e7370f93d1d0cde622a1f8e1c04877d8463912d04d973331ad4851f04de6915a"
  },
  "kernelspec": {
   "display_name": "Python 3.10.4 64-bit",
   "language": "python",
   "name": "python3"
  },
  "language_info": {
   "codemirror_mode": {
    "name": "ipython",
    "version": 3
   },
   "file_extension": ".py",
   "mimetype": "text/x-python",
   "name": "python",
   "nbconvert_exporter": "python",
   "pygments_lexer": "ipython3",
   "version": "3.10.4"
  },
  "orig_nbformat": 4
 },
 "nbformat": 4,
 "nbformat_minor": 2
}
