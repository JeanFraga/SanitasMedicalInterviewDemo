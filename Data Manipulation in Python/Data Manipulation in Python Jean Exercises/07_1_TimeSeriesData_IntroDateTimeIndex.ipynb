{
 "cells": [
  {
   "cell_type": "code",
   "execution_count": 1,
   "metadata": {},
   "outputs": [
    {
     "name": "stdout",
     "output_type": "stream",
     "text": [
      "--2022-04-19 20:59:56--  https://sds-platform-private.s3-us-east-2.amazonaws.com/uploads/P87-Section-8-Time-Series-Resources.zip\n",
      "Loaded CA certificate '/etc/ssl/certs/ca-certificates.crt'\n",
      "Resolving sds-platform-private.s3-us-east-2.amazonaws.com (sds-platform-private.s3-us-east-2.amazonaws.com)... 52.219.141.18\n",
      "Connecting to sds-platform-private.s3-us-east-2.amazonaws.com (sds-platform-private.s3-us-east-2.amazonaws.com)|52.219.141.18|:443... connected.\n",
      "HTTP request sent, awaiting response... 200 OK\n",
      "Length: 33988842 (32M) [application/x-zip-compressed]\n",
      "Saving to: ‘P87-Section-8-Time-Series-Resources.zip’\n",
      "\n",
      "P87-Section-8-Time- 100%[===================>]  32.41M  7.24MB/s    in 4.6s    \n",
      "\n",
      "2022-04-19 21:00:01 (6.98 MB/s) - ‘P87-Section-8-Time-Series-Resources.zip’ saved [33988842/33988842]\n",
      "\n"
     ]
    }
   ],
   "source": [
    "!wget https://sds-platform-private.s3-us-east-2.amazonaws.com/uploads/P87-Section-8-Time-Series-Resources.zip\n",
    "\n",
    "import pandas as pd\n",
    "import numpy as np\n",
    "import matplotlib.pyplot as plt\n",
    "import seaborn as sns\n",
    "import os\n",
    "import zipfile\n",
    "\n",
    "# Unzip the file to a folder above the current directory and delete the zip file\n",
    "with zipfile.ZipFile('P87-Section-8-Time-Series-Resources.zip', 'r') as zip_ref:\n",
    "    zip_ref.extractall('../Data Manipulation in Python Crash Course/')\n",
    "\n",
    "# Delete the zip file\n",
    "os.remove('P87-Section-8-Time-Series-Resources.zip')"
   ]
  },
  {
   "cell_type": "code",
   "execution_count": null,
   "metadata": {},
   "outputs": [],
   "source": []
  }
 ],
 "metadata": {
  "interpreter": {
   "hash": "e7370f93d1d0cde622a1f8e1c04877d8463912d04d973331ad4851f04de6915a"
  },
  "kernelspec": {
   "display_name": "Python 3.10.4 64-bit",
   "language": "python",
   "name": "python3"
  },
  "language_info": {
   "codemirror_mode": {
    "name": "ipython",
    "version": 3
   },
   "file_extension": ".py",
   "mimetype": "text/x-python",
   "name": "python",
   "nbconvert_exporter": "python",
   "pygments_lexer": "ipython3",
   "version": "3.10.4"
  },
  "orig_nbformat": 4
 },
 "nbformat": 4,
 "nbformat_minor": 2
}
